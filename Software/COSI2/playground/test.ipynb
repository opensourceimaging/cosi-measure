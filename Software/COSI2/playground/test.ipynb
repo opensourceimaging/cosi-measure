{
 "cells": [
  {
   "attachments": {},
   "cell_type": "markdown",
   "metadata": {},
   "source": [
    "# COSI MEASURE Control\n",
    "\n",
    "This notebook is a minimal working example and Installation guide.\n",
    "\n",
    "\n",
    "## Installation\n",
    "\n",
    "This Quick-Start-Guide is a short summary with minor changes of https://www.klipper3d.org/Installation.html\n",
    "\n",
    "### 1. Download and Install Klipper\n",
    "\n",
    "     git clone https://github.com/Klipper3d/klipper\n",
    "     ./klipper/scripts/install-octopi.sh\n",
    "\n",
    "### 2.1 Setting things up!\n",
    "\n",
    "     cd klipper\n",
    "     make menuconfig \n",
    "\n",
    "Opens a menu. Set\n",
    "- Enable extra low-level configuration options\n",
    "- Micro-controller Architecture (STMicroelectronics STM32)\n",
    "- Processor model (STM32F446)\n",
    "- Bootloader offset (32KiB bootloader)\n",
    "- Clock Reference (12 MHz crystal)\n",
    "- Communication interface (USB (on PA11/PA12))\n",
    "- USB ids (doesnt matter. But choose something)\n",
    "- no GPIO pins to set at startup ()\n",
    "\n",
    "### 2.2 Config File\n",
    "\n",
    "Get a ```printer.cfg```-file. \n",
    "\n",
    "Save it as a file named \"printer.cfg\" in the home directory of the pi user (ie, /home/cosi/printer.cfg).\n",
    "\n",
    "More Infos: https://www.klipper3d.org/Installation.html#obtain-a-klipper-configuration-file\n",
    "\n",
    "\n",
    "### 3. Going into Bootloader Mode\n",
    "\n",
    "1. Power On\n",
    "2. Press and hold \"boot\"\n",
    "3. Press \"reset\"\n",
    "4. release \"boot\"\n",
    "\n",
    "### 4. Searching Device ID:\n",
    "\n",
    "     lsusb\n",
    "\n",
    "Will show up something like\n",
    "\n",
    "     Bus 002 Device 001: ID 1d6b:0003 Linux Foundation 3.0 root hub\n",
    "     Bus 001 Device 031: ID 0483:df11 STMicroelectronics STM Device in DFU Mode\n",
    "     Bus 001 Device 002: ID 2109:3431 VIA Labs, Inc. Hub\n",
    "\n",
    "\n",
    "### 5. Compiling and Downloading to MCU\n",
    "\n",
    "Replace 0483:df11 with your hardware's ID from step 4 And execute the following command:\n",
    "\n",
    "     cd klipper\n",
    "     make flash FLASH_DEVICE=0483:df11\n",
    "\n",
    "\n",
    "this will do a lot of things and eventually will end like the following\n",
    "\n",
    "     Downloading to address = 0x08008000, size = 29236\n",
    "     Download\t[=========================] 100%        29236 bytes\n",
    "     Download done.\n",
    "     File downloaded successfully\n",
    "     Transitioning to dfuMANIFEST state\n",
    "     dfu-util: can't detach\n",
    "     Resetting USB to switch back to runtime mode\n",
    "     cosi@raspberrypi:~/klipper $ \n",
    "\n",
    "\n",
    "### 6. getting new Serial Port\n",
    "\n",
    "     ls /dev/serial/by-id/*\n",
    "\n",
    "\n",
    "will return something similar to \n",
    "\n",
    "     /dev/serial/by-id/usb-Klipper_stm32f446xx_280058000951363131343032-if00\n",
    "\n",
    "Copy and paste it in /home/cosi/printer.cfg to your MCU serial definition:\n",
    "\n",
    "     [mcu]\n",
    "     serial: /dev/serial/by-id/usb-Klipper_stm32f446xx_280058000951363131343032-if00\n",
    "\n",
    "\n",
    "### 7. Start Klipper\n",
    "\n",
    "     sudo service klipper start\n",
    "\n",
    "\n",
    "## Troubleshooting\n",
    "\n",
    "- If Klipper can not connect to MCU, perform step 3, 4 and 5 of this quick start guide.\n",
    "- no more known workaraounds\n",
    "- Klipper only supports one endstop per axis. Workaround: Macro for the other pin.\n",
    "\n",
    "\n",
    "Hint: After changing your printer.cfg file you need to restart klipper.\n",
    "\n",
    "Enjoy your measurements!\n",
    "\n",
    "\n"
   ]
  },
  {
   "cell_type": "code",
   "execution_count": 48,
   "metadata": {},
   "outputs": [],
   "source": [
    "import serial\n",
    "import time\n",
    "from datetime import datetime\n",
    "import os\n",
    "\n",
    "os.system('sudo service klipper stop')\n",
    "\n",
    "time.sleep(2)\n",
    "\n",
    "os.system('sudo service klipper start')\n",
    "\n",
    "time.sleep(1)\n",
    "\n",
    "ser = serial.Serial('/tmp/printer', 250000)\n",
    "time.sleep(1)\n",
    "\n",
    "def command(command):\n",
    "  #start_time = datetime.now()\n",
    "  global ser\n",
    "  command = command + \"\\r\\n\"\n",
    "\n",
    "  ser.write(str.encode(command)) \n",
    "  #time.sleep(1)\n",
    "\n",
    "  while True:\n",
    "    line = ser.readline()\n",
    "    print(line)\n",
    "\n",
    "    if line == b'ok\\n':\n",
    "      break\n",
    "\n"
   ]
  },
  {
   "cell_type": "code",
   "execution_count": 49,
   "metadata": {},
   "outputs": [
    {
     "name": "stdout",
     "output_type": "stream",
     "text": [
      "b'// Klipper state: Ready\\n'\n",
      "b'ok\\n'\n"
     ]
    }
   ],
   "source": [
    "command(\"G28 X0 Y0 Z0\") # homing procedure"
   ]
  },
  {
   "cell_type": "code",
   "execution_count": 22,
   "metadata": {},
   "outputs": [
    {
     "name": "stdout",
     "output_type": "stream",
     "text": [
      "b'ok\\n'\n"
     ]
    }
   ],
   "source": [
    "# set actual position --> no homing\n",
    "command(\"G92 X0 Y0 Z0\")"
   ]
  },
  {
   "cell_type": "code",
   "execution_count": 23,
   "metadata": {},
   "outputs": [
    {
     "name": "stdout",
     "output_type": "stream",
     "text": [
      "b'ok\\n'\n"
     ]
    }
   ],
   "source": [
    "command(\"M18\") # disable motor --> looses homing"
   ]
  },
  {
   "cell_type": "code",
   "execution_count": 38,
   "metadata": {},
   "outputs": [
    {
     "name": "stdout",
     "output_type": "stream",
     "text": [
      "b'ok\\n'\n"
     ]
    }
   ],
   "source": [
    "# hard disable\n",
    "command(\"hard_disable_drives\")"
   ]
  },
  {
   "cell_type": "code",
   "execution_count": 39,
   "metadata": {},
   "outputs": [
    {
     "name": "stdout",
     "output_type": "stream",
     "text": [
      "b'ok\\n'\n"
     ]
    }
   ],
   "source": [
    "# hard enable\n",
    "command(\"hard_enable_drives\")"
   ]
  },
  {
   "cell_type": "code",
   "execution_count": 130,
   "metadata": {},
   "outputs": [
    {
     "name": "stdout",
     "output_type": "stream",
     "text": [
      "b'ok\\n'\n"
     ]
    }
   ],
   "source": [
    "command(\"G0 X10 Y50 Z100\")\n",
    "\n",
    "\n"
   ]
  },
  {
   "cell_type": "code",
   "execution_count": 27,
   "metadata": {},
   "outputs": [
    {
     "name": "stdout",
     "output_type": "stream",
     "text": [
      "b'x:TRIGGERED y:TRIGGERED z:TRIGGERED\\n'\n",
      "b'ok\\n'\n"
     ]
    }
   ],
   "source": [
    "command(\"QUERY_ENDSTOPS\")"
   ]
  },
  {
   "cell_type": "code",
   "execution_count": 28,
   "metadata": {},
   "outputs": [
    {
     "name": "stdout",
     "output_type": "stream",
     "text": [
      "b'ok\\n'\n",
      "b'!! Must home axis first: 0.000 0.000 10.500 [0.000]\\n'\n",
      "b'ok\\n'\n",
      "b'ok\\n'\n"
     ]
    }
   ],
   "source": [
    "command(\"G0 X0 Y0 Z0\") # moves X-axis to x=10\n",
    "time.sleep(1)\n",
    "command(\"G0 X0 Y0 Z10\")\n",
    "time.sleep(1)\n",
    "command(\"G0 X0 Y0 Z0\")\n"
   ]
  },
  {
   "cell_type": "code",
   "execution_count": 29,
   "metadata": {},
   "outputs": [
    {
     "ename": "TypeError",
     "evalue": "command() takes 1 positional argument but 2 were given",
     "output_type": "error",
     "traceback": [
      "\u001b[0;31m---------------------------------------------------------------------------\u001b[0m",
      "\u001b[0;31mTypeError\u001b[0m                                 Traceback (most recent call last)",
      "Cell \u001b[0;32mIn[29], line 5\u001b[0m\n\u001b[1;32m      1\u001b[0m \u001b[39m# some further examples. mostly useless for COSI Measure\u001b[39;00m\n\u001b[0;32m----> 5\u001b[0m command(ser, \u001b[39m\"\u001b[39;49m\u001b[39mG28 X0 Y0 Z0\u001b[39;49m\u001b[39m\\r\u001b[39;49;00m\u001b[39m\\n\u001b[39;49;00m\u001b[39m\"\u001b[39;49m)\n\u001b[1;32m      6\u001b[0m \u001b[39m# command(ser, \"G28 X0 Y0\\r\\n\")\u001b[39;00m\n\u001b[1;32m      7\u001b[0m \u001b[39m# command(ser, \"G28 X0\\r\\n\")\u001b[39;00m\n\u001b[1;32m      8\u001b[0m \u001b[39m# command(ser, \"G28 Y0\\r\\n\")\u001b[39;00m\n\u001b[0;32m   (...)\u001b[0m\n\u001b[1;32m     26\u001b[0m \u001b[39m# Set Units(does not seem to work on ender 5)\u001b[39;00m\n\u001b[1;32m     27\u001b[0m \u001b[39m# command(ser, \"G20\\r\\n\") # inches\u001b[39;00m\n\u001b[1;32m     28\u001b[0m command(ser, \u001b[39m\"\u001b[39m\u001b[39mG21\u001b[39m\u001b[39m\\r\u001b[39;00m\u001b[39m\\n\u001b[39;00m\u001b[39m\"\u001b[39m) \u001b[39m# millimeters\u001b[39;00m\n",
      "\u001b[0;31mTypeError\u001b[0m: command() takes 1 positional argument but 2 were given"
     ]
    }
   ],
   "source": [
    "# some further examples. mostly useless for COSI Measure\n",
    "\n",
    "\n",
    "\n",
    "command(ser, \"G28 X0 Y0 Z0\\r\\n\")\n",
    "# command(ser, \"G28 X0 Y0\\r\\n\")\n",
    "# command(ser, \"G28 X0\\r\\n\")\n",
    "# command(ser, \"G28 Y0\\r\\n\")\n",
    "# command(ser, \"G28 Z0\\r\\n\")\n",
    "\n",
    "# Extruder Temp\n",
    "# command(ser, \"M104 S190 T0\\r\\n\") #  start heating T0 to 190 degrees Celsius\n",
    "# command(ser, \"G28\\r\\n\") # Home\n",
    "# command(ser, \"M109 S190 T0\\r\\n\") # wait for T0 to reach 190 degrees before continuing with any other commands\n",
    "\n",
    "# Bed Temp\n",
    "# command(ser, \"M140 S55\\r\\n\") # heat bed to 50 degrees celsius but do not wait\n",
    "# command(ser, \"G28\\r\\n\") # Home\n",
    "# command(ser, \"M190 S55\\r\\n\") # wait for bed to heat to 50 degrees celsius and wait\n",
    "\n",
    "# Fan\n",
    "# command(ser, \"M106 S255\\r\\n\") # fan speed full\n",
    "# command(ser, \"M106 S127\\r\\n\") # fan speed about half\n",
    "# command(ser, \"M106 S0\\r\\n\") # turn off fan\n",
    "\n",
    "# Set Units(does not seem to work on ender 5)\n",
    "# command(ser, \"G20\\r\\n\") # inches\n",
    "command(ser, \"G21\\r\\n\") # millimeters\n",
    "\n",
    "# Absolute Mode\n",
    "command(ser, \"G90\\r\\n\")\n",
    "\n",
    "# Relative Mode\n",
    "# command(ser, \"G91 X10\\r\\n\")\n",
    "\n",
    "# Move\n",
    "# command(ser, \"G0 X7 Y18\\r\\n\") # rapid motion but does not extrude material\n",
    "command(ser, \"G0 X350 Y350\\r\\n\") # rapid motion but does not extrude material ender 5 plus is 350 x 350\n",
    "command(ser, \"G1 Z0.345 F500\\r\\n\") # change layer\n",
    "command(ser, \"G0 X50 Y50\\r\\n\") # rapid motion but does not extrude material ender 5 plus is 350 x 350\n",
    "\n",
    "time.sleep(2)\n",
    "ser.close()"
   ]
  },
  {
   "cell_type": "code",
   "execution_count": 126,
   "metadata": {},
   "outputs": [
    {
     "name": "stdout",
     "output_type": "stream",
     "text": [
      "b'ok\\n'\n",
      "b'ok\\n'\n"
     ]
    },
    {
     "name": "stdout",
     "output_type": "stream",
     "text": [
      "b'ok\\n'\n",
      "b'ok\\n'\n",
      "b'ok\\n'\n",
      "b'ok\\n'\n",
      "b'ok\\n'\n",
      "b'ok\\n'\n",
      "b'ok\\n'\n",
      "b'ok\\n'\n",
      "b'ok\\n'\n",
      "b'ok\\n'\n",
      "b'ok\\n'\n",
      "b'ok\\n'\n",
      "b'ok\\n'\n",
      "b'ok\\n'\n"
     ]
    }
   ],
   "source": [
    "# slile\n",
    "command(\"G1 Z100\")\n",
    "command(\"G1 X80 Y150\")\n",
    "command(\"G1 Z48 \")\n",
    "command(\"G1 X80 Y170\")\n",
    "command(\"G1 Z55\")\n",
    "\n",
    "command(\"G1 X100 Y150\")\n",
    "command(\"G1 Z48\")\n",
    "command(\"G1 X100 Y170\")\n",
    "command(\"G1 Z55\")\n",
    "\n",
    "command(\"G1 X40 Y170\")\n",
    "command(\"G1 Z48\")\n",
    "command(\"G1 X80 Y200\")\n",
    "command(\"G1 X100 Y200\")\n",
    "command(\"G1 X130 Y170\")\n",
    "command(\"G1 Z55\")\n",
    "command(\"G1 X10 Y10 F3000\")\n"
   ]
  },
  {
   "cell_type": "code",
   "execution_count": 23,
   "metadata": {},
   "outputs": [
    {
     "name": "stdout",
     "output_type": "stream",
     "text": [
      "b'ok\\n'\n",
      "b'ok\\n'\n",
      "b'ok\\n'\n"
     ]
    },
    {
     "name": "stdout",
     "output_type": "stream",
     "text": [
      "b'ok\\n'\n",
      "b'ok\\n'\n",
      "b'ok\\n'\n",
      "b'ok\\n'\n",
      "b'ok\\n'\n",
      "b'ok\\n'\n",
      "b'ok\\n'\n",
      "b'ok\\n'\n",
      "b'ok\\n'\n",
      "b'ok\\n'\n",
      "b'ok\\n'\n",
      "b'ok\\n'\n",
      "b'ok\\n'\n",
      "b'ok\\n'\n",
      "b'ok\\n'\n",
      "b'ok\\n'\n",
      "b'ok\\n'\n"
     ]
    }
   ],
   "source": [
    "command(\"G0 X50 Y0\")\n",
    "for i in range (2):\n",
    "    command(\"G0 Z55\")\n",
    "    command(\"G0 X150 Y100\")\n",
    "    command(\"G0 Z45\")\n",
    "    command(\"G0 X150 Y150\")\n",
    "    command(\"G0 Z55\")\n",
    "    command(\"G0 X250 Y150\")\n",
    "    command(\"G0 Z45\")\n",
    "    command(\"G0 X250 Y100\")\n",
    "    command(\"G0 Z55\")\n",
    "command(\"G0 X50 Y0\")"
   ]
  },
  {
   "cell_type": "code",
   "execution_count": 7,
   "metadata": {},
   "outputs": [
    {
     "name": "stdout",
     "output_type": "stream",
     "text": [
      "b'ok\\n'\n",
      "b'ok\\n'\n"
     ]
    },
    {
     "name": "stdout",
     "output_type": "stream",
     "text": [
      "b'ok\\n'\n",
      "b'ok\\n'\n"
     ]
    }
   ],
   "source": [
    "for i in range (1):\n",
    "    command(\"G0 X400\")  #max:487\n",
    "    command(\"G0 Y400\")  #max:460\n",
    "    command(\"G0 Z400\")  #max:?\n",
    "    command(\"G0 X10 Y10 Z10\")\n"
   ]
  },
  {
   "cell_type": "code",
   "execution_count": 51,
   "metadata": {},
   "outputs": [
    {
     "name": "stdout",
     "output_type": "stream",
     "text": [
      "b'ok\\n'\n",
      "b'ok\\n'\n"
     ]
    },
    {
     "name": "stdout",
     "output_type": "stream",
     "text": [
      "b'ok\\n'\n",
      "b'ok\\n'\n",
      "b'ok\\n'\n"
     ]
    }
   ],
   "source": [
    "command(\"G0 X50 Y50 F500\")\n",
    "command(\"G0 X100 Y100 F1000\")\n",
    "command(\"G0 X250 Y250 F2000\")\n",
    "command(\"G0 X400 Y400 F3000\")\n",
    "command(\"G0 X10 Y10 F4000\")\n"
   ]
  },
  {
   "cell_type": "code",
   "execution_count": 93,
   "metadata": {},
   "outputs": [
    {
     "name": "stdout",
     "output_type": "stream",
     "text": [
      "b'ok\\n'\n",
      "b'ok\\n'\n",
      "b'ok\\n'\n",
      "b'ok\\n'\n",
      "b'ok\\n'\n",
      "b'ok\\n'\n",
      "b'ok\\n'\n",
      "b'ok\\n'\n",
      "b'ok\\n'\n",
      "b'ok\\n'\n",
      "b'ok\\n'\n",
      "b'ok\\n'\n",
      "b'ok\\n'\n",
      "b'ok\\n'\n"
     ]
    }
   ],
   "source": [
    "command(\"G1 X200 Y200 F1500\")\n",
    "\n",
    "for i in range (3):\n",
    "    command(\"G0 X200 Y100 \")\n",
    "    command(\"G0 X100 Y100 \")\n",
    "    command(\"G0 X100 Y200 \")\n",
    "    command(\"G0 X200 Y200 \")\n",
    "    \n",
    "command(\"G0 X10 Y10 \")\n",
    "\n",
    "\n",
    "\n",
    "\n"
   ]
  },
  {
   "cell_type": "code",
   "execution_count": 50,
   "metadata": {},
   "outputs": [
    {
     "name": "stdout",
     "output_type": "stream",
     "text": [
      "b'ok\\n'\n"
     ]
    }
   ],
   "source": [
    "command(\"G0 Z300 F2000\")"
   ]
  },
  {
   "cell_type": "code",
   "execution_count": 30,
   "metadata": {},
   "outputs": [
    {
     "name": "stdout",
     "output_type": "stream",
     "text": [
      "b'ok\\n'\n"
     ]
    },
    {
     "name": "stdout",
     "output_type": "stream",
     "text": [
      "b'ok\\n'\n"
     ]
    }
   ],
   "source": [
    "#command(\"G0 X50 Y100 Z50\")\n",
    "#command(\"G2 X150 Y100 I50 J0 F1500\")\n",
    "command(\"G0 X140 Y100 \")\n",
    "command(\"G3 X60 Y100 I50 J0 F1500\")"
   ]
  },
  {
   "cell_type": "code",
   "execution_count": 33,
   "metadata": {},
   "outputs": [
    {
     "name": "stdout",
     "output_type": "stream",
     "text": [
      "b'ok\\n'\n"
     ]
    }
   ],
   "source": [
    "\n",
    "\n",
    "command(\"G0 Z200\")"
   ]
  },
  {
   "cell_type": "code",
   "execution_count": 32,
   "metadata": {},
   "outputs": [
    {
     "name": "stdout",
     "output_type": "stream",
     "text": [
      "b'ok\\n'\n",
      "b'ok\\n'\n"
     ]
    },
    {
     "name": "stdout",
     "output_type": "stream",
     "text": [
      "b'ok\\n'\n",
      "b'ok\\n'\n",
      "b'ok\\n'\n",
      "b'ok\\n'\n",
      "b'ok\\n'\n",
      "b'ok\\n'\n",
      "b'ok\\n'\n",
      "b'ok\\n'\n",
      "b'ok\\n'\n",
      "b'ok\\n'\n",
      "b'ok\\n'\n",
      "b'ok\\n'\n",
      "b'ok\\n'\n",
      "b'ok\\n'\n",
      "b'ok\\n'\n",
      "b'ok\\n'\n",
      "b'ok\\n'\n",
      "b'ok\\n'\n",
      "b'ok\\n'\n",
      "b'ok\\n'\n",
      "b'ok\\n'\n",
      "b'ok\\n'\n",
      "b'ok\\n'\n"
     ]
    }
   ],
   "source": [
    "#halbkreis\n",
    "command(\"G0 X50 Y100 Z50\")\n",
    "\n",
    "command(\"G0 Z45\")\n",
    "command(\"G2 X150 Y100 I50 J0 F1500\")\n",
    "command(\"G0 X140 Y100\")\n",
    "command(\"G0 Z50\")\n",
    "\n",
    "command(\"G0 X50 Y100 F2000\")\n",
    "\n",
    "command(\"G0 Z45\")\n",
    "command(\"G0 X60 Y100 \")\n",
    "command(\"G2 X140 Y100 I40 J0 F1500\")\n",
    "command(\"G0 Z50\")\n",
    "\n",
    "command(\"G0 X75 Y100 Z50\")\n",
    "command(\"G0 Z45\")\n",
    "command(\"G0 X75 Y80 \")\n",
    "command(\"G0 X70 Y80 \")\n",
    "command(\"G0 X70 Y100 \")\n",
    "command(\"G0 X75 Y100 \")\n",
    "command(\"G0 Z50\")\n",
    "\n",
    "command(\"G0 X125 Y100\")\n",
    "command(\"G0 Z45\")\n",
    "command(\"G0 X125 Y80\")\n",
    "command(\"G0 X130 Y80\")\n",
    "command(\"G0 X130 Y100\")\n",
    "command(\"G0 X125 Y100\")\n",
    "command(\"G0 Z50\")\n",
    "command(\"G0 X200 Y200 F3000\")"
   ]
  }
 ],
 "metadata": {
  "kernelspec": {
   "display_name": "Python 3",
   "language": "python",
   "name": "python3"
  },
  "language_info": {
   "codemirror_mode": {
    "name": "ipython",
    "version": 3
   },
   "file_extension": ".py",
   "mimetype": "text/x-python",
   "name": "python",
   "nbconvert_exporter": "python",
   "pygments_lexer": "ipython3",
   "version": "3.9.2"
  },
  "orig_nbformat": 4,
  "vscode": {
   "interpreter": {
    "hash": "916dbcbb3f70747c44a77c7bcd40155683ae19c65e1c03b4aa3499c5328201f1"
   }
  }
 },
 "nbformat": 4,
 "nbformat_minor": 2
}
