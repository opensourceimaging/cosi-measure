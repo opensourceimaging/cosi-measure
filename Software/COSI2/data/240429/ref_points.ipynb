{
 "cells": [
  {
   "cell_type": "code",
   "execution_count": null,
   "metadata": {},
   "outputs": [],
   "source": [
    "print(\"hi\")\n",
    "import numpy as np\n",
    "# magnet facing upwards\n",
    "pr=np.array([20,394,266.5]) # X:20.000 Y:394.000 Z:266.500\n",
    "pl=np.array([478,380,227.5]) # X:478.000 Y:380.000 Z:277.500\n",
    "pt=np.array([248,388,499.5]) # X:248.000 Y:388.000 Z:499.500\n",
    "\n",
    "pcxz=(pr+pl)/2\n",
    "\n",
    "print(pcxz)"
   ]
  },
  {
   "cell_type": "code",
   "execution_count": null,
   "metadata": {},
   "outputs": [],
   "source": [
    "pz = pt - pcxz\n",
    "print(pz)"
   ]
  },
  {
   "cell_type": "code",
   "execution_count": null,
   "metadata": {},
   "outputs": [],
   "source": [
    "px = pr-pl\n",
    "print(px)"
   ]
  },
  {
   "cell_type": "code",
   "execution_count": null,
   "metadata": {},
   "outputs": [],
   "source": [
    "py = np.cross(px,pz)"
   ]
  },
  {
   "cell_type": "code",
   "execution_count": null,
   "metadata": {},
   "outputs": [],
   "source": [
    "py"
   ]
  },
  {
   "cell_type": "code",
   "execution_count": null,
   "metadata": {},
   "outputs": [],
   "source": [
    "p_x = pr-pcxz\n",
    "print(p_x)"
   ]
  },
  {
   "cell_type": "code",
   "execution_count": null,
   "metadata": {},
   "outputs": [],
   "source": [
    "p_z = pt-pcxz\n",
    "print(p_z)"
   ]
  },
  {
   "cell_type": "code",
   "execution_count": null,
   "metadata": {},
   "outputs": [],
   "source": [
    "p_y_big = np.cross(p_z,px)+pcxz\n",
    "p_y = p_y_big/np.linalg.norm(p_y_big)\n",
    "print(p_y)"
   ]
  },
  {
   "cell_type": "code",
   "execution_count": null,
   "metadata": {},
   "outputs": [],
   "source": [
    "probe_distance_from_tip = 2.05\n",
    "centerpoint = pcxz+p_y*254 + p_y*probe_distance_from_tip\n",
    "2.05\n",
    "print(centerpoint)"
   ]
  },
  {
   "cell_type": "code",
   "execution_count": null,
   "metadata": {},
   "outputs": [],
   "source": [
    "import numpy as np\n",
    "\n",
    "center = np.array([100,100,100])\n",
    "radius = 50\n",
    "npoints = 5\n",
    "\n",
    "x = np.linspace(center[0]-radius, center[0]+radius, 2*npoints)\n",
    "y = np.linspace(center[1]-radius, center[1]+radius, 2*npoints)\n",
    "z = np.linspace(center[2]-radius, center[2]+radius, 2*npoints)\n",
    "\n",
    "xx, yy, zz = np.meshgrid(x,y,z)\n",
    "\n",
    "res = (xx-center[0])**2+(yy-center[1])**2+(zz-center[2])**2<=radius**2\n",
    "#print(np.shape(res))\n",
    "#print(res)\n",
    "\n",
    "it = np.nditer(res, flags=['f_index'])\n",
    "for entry in it:\n",
    "    if entry:\n",
    "        pass\n",
    "        #print(it.index)\n",
    "\n",
    "for iz in range(len(z)):\n",
    "    for iy in range(len(y)):\n",
    "        for ix in range(len(x)):\n",
    "            if res[ix,iy,iz]:\n",
    "                print(f\"{x[ix]}, {y[iy]}, {z[iz]}\")"
   ]
  },
  {
   "cell_type": "code",
   "execution_count": null,
   "metadata": {},
   "outputs": [],
   "source": []
  }
 ],
 "metadata": {
  "kernelspec": {
   "display_name": "base",
   "language": "python",
   "name": "python3"
  },
  "language_info": {
   "codemirror_mode": {
    "name": "ipython",
    "version": 3
   },
   "file_extension": ".py",
   "mimetype": "text/x-python",
   "name": "python",
   "nbconvert_exporter": "python",
   "pygments_lexer": "ipython3",
   "version": "3.9.2"
  }
 },
 "nbformat": 4,
 "nbformat_minor": 2
}
