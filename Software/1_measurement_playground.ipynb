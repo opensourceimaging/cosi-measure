{
 "cells": [
  {
   "cell_type": "markdown",
   "metadata": {},
   "source": [
    "This notebook will guide to guide you through accquiring data with Cosi Measure without a GUI"
   ]
  },
  {
   "cell_type": "markdown",
   "metadata": {},
   "source": [
    "# 1. Creating Pathfiles\n",
    "\n",
    "Here we create a file with a list of points, named pathfile. You can visualize the pathfile with `postprocessing/visualizer/plot_3d_snake.py`. \n",
    "\n",
    "This example will map the $OSI^2One$ V1 Magnet with a ball-path. It will find the center of the magnet bore based on some reference points that you need to enter manually, see code block below."
   ]
  },
  {
   "cell_type": "code",
   "execution_count": null,
   "metadata": {},
   "outputs": [],
   "source": [
    "import numpy as np\n",
    "import os\n",
    "from devices.cosi import CosiMeasure\n",
    "from devices.gaussmeter import gaussmeter\n",
    "from utils.osi2_positioning import get_magnet_center_abs\n",
    "from pathfiles.ball_path import ball_path\n",
    "from pathfiles.extrempoints_path import create_extrempoints_pathfile\n",
    "from utils.utils import get_formatted_datetime\n",
    "\n",
    "descriptor = '_describe-your-measurement-here'\n",
    "\n",
    "directory = \"_my_data/\" + get_formatted_datetime() + descriptor + '/'\n",
    "\n",
    "# Create the directory if it doesn't exist\n",
    "if not os.path.exists(directory):\n",
    "    os.makedirs(directory)\n",
    "\n",
    "# do not change the following file names for the GUI shimming and fieldviewer.\n",
    "filename_ball_path = directory + 'ballpath.txt'\n",
    "filename_raw_dat = directory + 'raw_dat.csv'\n",
    "filename_extrempoints_pathfile = directory + 'extrem_points.txt' \n",
    "filename_extrem_points_before = directory + 'extrempoints_raw_dat_before.csv' \n",
    "filename_extrem_points_after = directory + 'extrempoints_raw_dat_after.csv'\n",
    "filename_centerpoint = directory + 'centerpoint.csv'\n",
    "\n",
    "# measure this points in your setup before\n",
    "pr = np.array([2.0, 417.0, 270.0])      # ref point right aka screw\n",
    "pl = np.array([462.0, 415.0, 280.0])    # screw left\n",
    "pt = np.array([235.0, 416.0, 505.0])    # screw top\n",
    "center_point = get_magnet_center_abs(pr, pl, pt) # only tested for OSI2-One V1. other magnets might differ. \n",
    "\n",
    "np.savetxt(filename_centerpoint, center_point)\n",
    "\n",
    "print(center_point)\n",
    "\n",
    "# create path_files\n",
    "radius = 85 # change to your needs\n",
    "radius_npoints = 10 # change to your needs. \n",
    "\n",
    "t_measure = 0.6 # waiting time for filling the lakeshore filter window with new measurement values\n",
    "\n",
    "ball = ball_path(filename_ball_path, center_point_input=center_point, radius_input=radius, radius_npoints_input=radius_npoints)\n",
    "create_extrempoints_pathfile(center_point, radius, filename_extrempoints_pathfile)"
   ]
  },
  {
   "cell_type": "markdown",
   "metadata": {},
   "source": [
    "# Init Cosi"
   ]
  },
  {
   "cell_type": "code",
   "execution_count": null,
   "metadata": {},
   "outputs": [],
   "source": [
    "cosi = CosiMeasure()\n",
    "is_colliding = cosi.check4bounds(filename_ball_path)\n",
    "has_duplicates = cosi.check4duplicates(filename_ball_path)"
   ]
  },
  {
   "cell_type": "markdown",
   "metadata": {},
   "source": [
    "# Homing Cosi"
   ]
  },
  {
   "cell_type": "code",
   "execution_count": null,
   "metadata": {},
   "outputs": [],
   "source": [
    "print(cosi.home_y()) # moves y outside of the bore to y460"
   ]
  },
  {
   "cell_type": "code",
   "execution_count": null,
   "metadata": {},
   "outputs": [],
   "source": [
    "print(cosi.home_x()) # x0\n",
    "print(cosi.home_z()) # z0"
   ]
  },
  {
   "cell_type": "markdown",
   "metadata": {},
   "source": [
    "# Move to Magnet Center"
   ]
  },
  {
   "cell_type": "code",
   "execution_count": null,
   "metadata": {},
   "outputs": [],
   "source": [
    "print(cosi.move_to(y=cosi.max_y)) # safe in y axis\n",
    "print(cosi.move_to(x=center_point[0], z=center_point[2])) # move to center in xz-plane\n",
    "print(cosi.move_to(y=center_point[1]))"
   ]
  },
  {
   "cell_type": "markdown",
   "metadata": {},
   "source": [
    "# Init Gaussmeter\n",
    "\n",
    "Some settings of the gaussmeter are not yet implemented into this code. For example, one axis can be set to a higher resolution, it makes sense to set this into the direction of B0. This must be done by hand on the device for now."
   ]
  },
  {
   "cell_type": "code",
   "execution_count": null,
   "metadata": {},
   "outputs": [],
   "source": [
    "lakeshore = gaussmeter()\n",
    "lakeshore.set_mode(mode='fast');\n",
    "lakeshore.set_filter_on(True);\n",
    "lakeshore.set_filter_window(1);\n",
    "lakeshore.set_filter_points(5);\n",
    "lakeshore.t_measure = t_measure"
   ]
  },
  {
   "cell_type": "markdown",
   "metadata": {},
   "source": [
    "# Measure \n",
    "\n",
    "## 1. Extrem Points Before Mapping"
   ]
  },
  {
   "cell_type": "code",
   "execution_count": null,
   "metadata": {},
   "outputs": [],
   "source": [
    "cosi.measure_along_path(filename_extrempoints_pathfile, filename_extrem_points_before, probe=lakeshore)"
   ]
  },
  {
   "cell_type": "markdown",
   "metadata": {},
   "source": [
    "## 2. Mapping"
   ]
  },
  {
   "cell_type": "code",
   "execution_count": null,
   "metadata": {},
   "outputs": [],
   "source": [
    "cosi.measure_along_path(filename_ball_path, filename_raw_dat, probe=lakeshore)"
   ]
  },
  {
   "cell_type": "markdown",
   "metadata": {},
   "source": [
    "## 3. Extrem Points after Mapping"
   ]
  },
  {
   "cell_type": "code",
   "execution_count": null,
   "metadata": {},
   "outputs": [],
   "source": [
    "\n",
    "cosi.measure_along_path(filename_extrempoints_pathfile, filename_extrem_points_after, probe=lakeshore)"
   ]
  }
 ],
 "metadata": {
  "kernelspec": {
   "display_name": "Python 3",
   "language": "python",
   "name": "python3"
  },
  "language_info": {
   "codemirror_mode": {
    "name": "ipython",
    "version": 3
   },
   "file_extension": ".py",
   "mimetype": "text/x-python",
   "name": "python",
   "nbconvert_exporter": "python",
   "pygments_lexer": "ipython3",
   "version": "3.10.14"
  }
 },
 "nbformat": 4,
 "nbformat_minor": 2
}
